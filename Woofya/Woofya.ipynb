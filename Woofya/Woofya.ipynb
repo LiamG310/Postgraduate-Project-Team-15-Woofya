{
 "cells": [
  {
   "cell_type": "code",
   "execution_count": 1,
   "id": "c2b93885",
   "metadata": {
    "scrolled": true
   },
   "outputs": [
    {
     "data": {
      "text/html": [
       "<div>\n",
       "<style scoped>\n",
       "    .dataframe tbody tr th:only-of-type {\n",
       "        vertical-align: middle;\n",
       "    }\n",
       "\n",
       "    .dataframe tbody tr th {\n",
       "        vertical-align: top;\n",
       "    }\n",
       "\n",
       "    .dataframe thead th {\n",
       "        text-align: right;\n",
       "    }\n",
       "</style>\n",
       "<table border=\"1\" class=\"dataframe\">\n",
       "  <thead>\n",
       "    <tr style=\"text-align: right;\">\n",
       "      <th></th>\n",
       "      <th>id</th>\n",
       "      <th>place_id</th>\n",
       "      <th>type</th>\n",
       "      <th>detailed_fingerprint</th>\n",
       "      <th>fingerprint</th>\n",
       "      <th>date_updated</th>\n",
       "      <th>date_created</th>\n",
       "      <th>icon</th>\n",
       "      <th>name</th>\n",
       "      <th>scope</th>\n",
       "      <th>...</th>\n",
       "      <th>serves_breakfast</th>\n",
       "      <th>dine_in</th>\n",
       "      <th>serves_vegetarian_food</th>\n",
       "      <th>secondary_opening_hours</th>\n",
       "      <th>permanently_closed</th>\n",
       "      <th>extracted_reviews</th>\n",
       "      <th>review_text</th>\n",
       "      <th>review_rating</th>\n",
       "      <th>review_author</th>\n",
       "      <th>review_time</th>\n",
       "    </tr>\n",
       "  </thead>\n",
       "  <tbody>\n",
       "    <tr>\n",
       "      <th>0</th>\n",
       "      <td>91</td>\n",
       "      <td>ChIJcSHLgr9n1moRyVdLMogc6lI</td>\n",
       "      <td>[\"natural_feature\", \"establishment\"]</td>\n",
       "      <td>NaN</td>\n",
       "      <td>e625cc8e011fc0d1b4d15881c9e9f1de</td>\n",
       "      <td>2024-09-08 13:34:28</td>\n",
       "      <td>2024-07-25 15:11:31</td>\n",
       "      <td>https://maps.gstatic.com/mapfiles/place_api/ic...</td>\n",
       "      <td>Dog Beach</td>\n",
       "      <td>GOOGLE</td>\n",
       "      <td>...</td>\n",
       "      <td>NaN</td>\n",
       "      <td>NaN</td>\n",
       "      <td>NaN</td>\n",
       "      <td>NaN</td>\n",
       "      <td>NaN</td>\n",
       "      <td>[]</td>\n",
       "      <td>[]</td>\n",
       "      <td>[]</td>\n",
       "      <td>[]</td>\n",
       "      <td>[]</td>\n",
       "    </tr>\n",
       "    <tr>\n",
       "      <th>1</th>\n",
       "      <td>92</td>\n",
       "      <td>ChIJx7ZjOqFn1moR8UpNqKdj5Q4</td>\n",
       "      <td>[\"park\", \"point_of_interest\", \"establishment\"]</td>\n",
       "      <td>NaN</td>\n",
       "      <td>fc3a498d30b9774caa17848c71a32c16</td>\n",
       "      <td>2024-09-08 13:34:28</td>\n",
       "      <td>2024-07-25 15:11:31</td>\n",
       "      <td>https://maps.gstatic.com/mapfiles/place_api/ic...</td>\n",
       "      <td>Port Melbourne Dog Beach</td>\n",
       "      <td>GOOGLE</td>\n",
       "      <td>...</td>\n",
       "      <td>NaN</td>\n",
       "      <td>NaN</td>\n",
       "      <td>NaN</td>\n",
       "      <td>NaN</td>\n",
       "      <td>NaN</td>\n",
       "      <td>[]</td>\n",
       "      <td>[]</td>\n",
       "      <td>[]</td>\n",
       "      <td>[]</td>\n",
       "      <td>[]</td>\n",
       "    </tr>\n",
       "    <tr>\n",
       "      <th>2</th>\n",
       "      <td>93</td>\n",
       "      <td>ChIJZ7efNQBp1moRxHtFuKD-Q50</td>\n",
       "      <td>[\"park\", \"point_of_interest\", \"establishment\"]</td>\n",
       "      <td>NaN</td>\n",
       "      <td>57cbf884fa0bf01a4e8e3b10b3a98968</td>\n",
       "      <td>2024-08-25 15:26:41</td>\n",
       "      <td>2024-07-25 15:11:31</td>\n",
       "      <td>https://maps.gstatic.com/mapfiles/place_api/ic...</td>\n",
       "      <td>St Kilda West Dog Beach</td>\n",
       "      <td>GOOGLE</td>\n",
       "      <td>...</td>\n",
       "      <td>NaN</td>\n",
       "      <td>NaN</td>\n",
       "      <td>NaN</td>\n",
       "      <td>NaN</td>\n",
       "      <td>NaN</td>\n",
       "      <td>[]</td>\n",
       "      <td>[]</td>\n",
       "      <td>[]</td>\n",
       "      <td>[]</td>\n",
       "      <td>[]</td>\n",
       "    </tr>\n",
       "    <tr>\n",
       "      <th>3</th>\n",
       "      <td>94</td>\n",
       "      <td>ChIJD61p9G9p1moR8rAJxmrhNdw</td>\n",
       "      <td>[\"park\", \"point_of_interest\", \"establishment\"]</td>\n",
       "      <td>4e21fe75cdbb2bc55bc7bb694e7bacf0</td>\n",
       "      <td>2ed3ed330c69c55c22d46a93fea63123</td>\n",
       "      <td>2024-07-28 13:43:03</td>\n",
       "      <td>2024-07-25 15:11:31</td>\n",
       "      <td>https://maps.gstatic.com/mapfiles/place_api/ic...</td>\n",
       "      <td>St Kilda West dog off leash beach</td>\n",
       "      <td>NaN</td>\n",
       "      <td>...</td>\n",
       "      <td>NaN</td>\n",
       "      <td>NaN</td>\n",
       "      <td>NaN</td>\n",
       "      <td>NaN</td>\n",
       "      <td>NaN</td>\n",
       "      <td>[{'text': 'My dog loves this place', 'rating':...</td>\n",
       "      <td>['My dog loves this place']</td>\n",
       "      <td>[5]</td>\n",
       "      <td>['PP cnx']</td>\n",
       "      <td>[1683500410]</td>\n",
       "    </tr>\n",
       "    <tr>\n",
       "      <th>4</th>\n",
       "      <td>95</td>\n",
       "      <td>ChIJqWP5r9hp1moRBU5nqhpUHKc</td>\n",
       "      <td>[\"park\", \"point_of_interest\", \"establishment\"]</td>\n",
       "      <td>9b045332d6d39862322d10012c1db881</td>\n",
       "      <td>adbe731570a099bd2c393c477363c757</td>\n",
       "      <td>2024-08-25 15:27:42</td>\n",
       "      <td>2024-07-25 15:11:31</td>\n",
       "      <td>https://maps.gstatic.com/mapfiles/place_api/ic...</td>\n",
       "      <td>St Kilda Harbour Dog Beach</td>\n",
       "      <td>NaN</td>\n",
       "      <td>...</td>\n",
       "      <td>NaN</td>\n",
       "      <td>NaN</td>\n",
       "      <td>NaN</td>\n",
       "      <td>NaN</td>\n",
       "      <td>NaN</td>\n",
       "      <td>[{'text': 'Small area of beach just north of t...</td>\n",
       "      <td>['Small area of beach just north of the main p...</td>\n",
       "      <td>[5, 5, 5, 5, 5]</td>\n",
       "      <td>['Sean Nairn', 'Moni V', 'Madeline Rose', 'Jod...</td>\n",
       "      <td>[1716101844, 1667857196, 1704158300, 167856920...</td>\n",
       "    </tr>\n",
       "  </tbody>\n",
       "</table>\n",
       "<p>5 rows × 67 columns</p>\n",
       "</div>"
      ],
      "text/plain": [
       "   id                     place_id  \\\n",
       "0  91  ChIJcSHLgr9n1moRyVdLMogc6lI   \n",
       "1  92  ChIJx7ZjOqFn1moR8UpNqKdj5Q4   \n",
       "2  93  ChIJZ7efNQBp1moRxHtFuKD-Q50   \n",
       "3  94  ChIJD61p9G9p1moR8rAJxmrhNdw   \n",
       "4  95  ChIJqWP5r9hp1moRBU5nqhpUHKc   \n",
       "\n",
       "                                             type  \\\n",
       "0            [\"natural_feature\", \"establishment\"]   \n",
       "1  [\"park\", \"point_of_interest\", \"establishment\"]   \n",
       "2  [\"park\", \"point_of_interest\", \"establishment\"]   \n",
       "3  [\"park\", \"point_of_interest\", \"establishment\"]   \n",
       "4  [\"park\", \"point_of_interest\", \"establishment\"]   \n",
       "\n",
       "               detailed_fingerprint                       fingerprint  \\\n",
       "0                               NaN  e625cc8e011fc0d1b4d15881c9e9f1de   \n",
       "1                               NaN  fc3a498d30b9774caa17848c71a32c16   \n",
       "2                               NaN  57cbf884fa0bf01a4e8e3b10b3a98968   \n",
       "3  4e21fe75cdbb2bc55bc7bb694e7bacf0  2ed3ed330c69c55c22d46a93fea63123   \n",
       "4  9b045332d6d39862322d10012c1db881  adbe731570a099bd2c393c477363c757   \n",
       "\n",
       "          date_updated         date_created  \\\n",
       "0  2024-09-08 13:34:28  2024-07-25 15:11:31   \n",
       "1  2024-09-08 13:34:28  2024-07-25 15:11:31   \n",
       "2  2024-08-25 15:26:41  2024-07-25 15:11:31   \n",
       "3  2024-07-28 13:43:03  2024-07-25 15:11:31   \n",
       "4  2024-08-25 15:27:42  2024-07-25 15:11:31   \n",
       "\n",
       "                                                icon  \\\n",
       "0  https://maps.gstatic.com/mapfiles/place_api/ic...   \n",
       "1  https://maps.gstatic.com/mapfiles/place_api/ic...   \n",
       "2  https://maps.gstatic.com/mapfiles/place_api/ic...   \n",
       "3  https://maps.gstatic.com/mapfiles/place_api/ic...   \n",
       "4  https://maps.gstatic.com/mapfiles/place_api/ic...   \n",
       "\n",
       "                                name   scope  ... serves_breakfast dine_in  \\\n",
       "0                          Dog Beach  GOOGLE  ...              NaN     NaN   \n",
       "1           Port Melbourne Dog Beach  GOOGLE  ...              NaN     NaN   \n",
       "2            St Kilda West Dog Beach  GOOGLE  ...              NaN     NaN   \n",
       "3  St Kilda West dog off leash beach     NaN  ...              NaN     NaN   \n",
       "4         St Kilda Harbour Dog Beach     NaN  ...              NaN     NaN   \n",
       "\n",
       "   serves_vegetarian_food secondary_opening_hours permanently_closed  \\\n",
       "0                     NaN                     NaN                NaN   \n",
       "1                     NaN                     NaN                NaN   \n",
       "2                     NaN                     NaN                NaN   \n",
       "3                     NaN                     NaN                NaN   \n",
       "4                     NaN                     NaN                NaN   \n",
       "\n",
       "                                   extracted_reviews  \\\n",
       "0                                                 []   \n",
       "1                                                 []   \n",
       "2                                                 []   \n",
       "3  [{'text': 'My dog loves this place', 'rating':...   \n",
       "4  [{'text': 'Small area of beach just north of t...   \n",
       "\n",
       "                                         review_text    review_rating  \\\n",
       "0                                                 []               []   \n",
       "1                                                 []               []   \n",
       "2                                                 []               []   \n",
       "3                        ['My dog loves this place']              [5]   \n",
       "4  ['Small area of beach just north of the main p...  [5, 5, 5, 5, 5]   \n",
       "\n",
       "                                       review_author  \\\n",
       "0                                                 []   \n",
       "1                                                 []   \n",
       "2                                                 []   \n",
       "3                                         ['PP cnx']   \n",
       "4  ['Sean Nairn', 'Moni V', 'Madeline Rose', 'Jod...   \n",
       "\n",
       "                                         review_time  \n",
       "0                                                 []  \n",
       "1                                                 []  \n",
       "2                                                 []  \n",
       "3                                       [1683500410]  \n",
       "4  [1716101844, 1667857196, 1704158300, 167856920...  \n",
       "\n",
       "[5 rows x 67 columns]"
      ]
     },
     "execution_count": 1,
     "metadata": {},
     "output_type": "execute_result"
    }
   ],
   "source": [
    "import pandas as pd\n",
    "\n",
    "# Load the CSV file\n",
    "file_path = 'woofya_db_2.csv'\n",
    "data = pd.read_csv(file_path)\n",
    "\n",
    "# Display the first few rows to understand the structure of the dataset\n",
    "data.head()\n"
   ]
  },
  {
   "cell_type": "code",
   "execution_count": 2,
   "id": "d85a8e94",
   "metadata": {},
   "outputs": [
    {
     "data": {
      "text/plain": [
       "67"
      ]
     },
     "execution_count": 2,
     "metadata": {},
     "output_type": "execute_result"
    }
   ],
   "source": [
    "len(data.columns)"
   ]
  },
  {
   "cell_type": "code",
   "execution_count": 3,
   "id": "ff2e754b",
   "metadata": {},
   "outputs": [],
   "source": [
    "location_data = data[['name','geometry.location.lat','geometry.location.lng', 'review_text', 'review_rating']].copy()"
   ]
  },
  {
   "cell_type": "code",
   "execution_count": 4,
   "id": "837502d5",
   "metadata": {},
   "outputs": [],
   "source": [
    "location_data.dropna(subset=['name', 'review_text','review_rating'], inplace=True)"
   ]
  },
  {
   "cell_type": "code",
   "execution_count": 5,
   "id": "f5707474",
   "metadata": {},
   "outputs": [],
   "source": [
    "location_data['review_text'] = location_data['review_text'].apply(lambda x: eval(x) if isinstance(x, str) else [])\n",
    "location_data['review_rating'] = location_data['review_rating'].apply(lambda x: eval(x) if isinstance(x, str) else [])"
   ]
  },
  {
   "cell_type": "code",
   "execution_count": 6,
   "id": "9c6b2dbc",
   "metadata": {},
   "outputs": [
    {
     "data": {
      "text/html": [
       "<div>\n",
       "<style scoped>\n",
       "    .dataframe tbody tr th:only-of-type {\n",
       "        vertical-align: middle;\n",
       "    }\n",
       "\n",
       "    .dataframe tbody tr th {\n",
       "        vertical-align: top;\n",
       "    }\n",
       "\n",
       "    .dataframe thead th {\n",
       "        text-align: right;\n",
       "    }\n",
       "</style>\n",
       "<table border=\"1\" class=\"dataframe\">\n",
       "  <thead>\n",
       "    <tr style=\"text-align: right;\">\n",
       "      <th></th>\n",
       "      <th>name</th>\n",
       "      <th>geometry.location.lat</th>\n",
       "      <th>geometry.location.lng</th>\n",
       "      <th>review_text</th>\n",
       "      <th>review_rating</th>\n",
       "    </tr>\n",
       "  </thead>\n",
       "  <tbody>\n",
       "    <tr>\n",
       "      <th>0</th>\n",
       "      <td>Dog Beach</td>\n",
       "      <td>-37.843830</td>\n",
       "      <td>144.938476</td>\n",
       "      <td>[]</td>\n",
       "      <td>[]</td>\n",
       "    </tr>\n",
       "    <tr>\n",
       "      <th>1</th>\n",
       "      <td>Port Melbourne Dog Beach</td>\n",
       "      <td>-37.839641</td>\n",
       "      <td>144.920754</td>\n",
       "      <td>[]</td>\n",
       "      <td>[]</td>\n",
       "    </tr>\n",
       "    <tr>\n",
       "      <th>2</th>\n",
       "      <td>St Kilda West Dog Beach</td>\n",
       "      <td>-37.858539</td>\n",
       "      <td>144.966718</td>\n",
       "      <td>[]</td>\n",
       "      <td>[]</td>\n",
       "    </tr>\n",
       "    <tr>\n",
       "      <th>3</th>\n",
       "      <td>St Kilda West dog off leash beach</td>\n",
       "      <td>-37.859313</td>\n",
       "      <td>144.969437</td>\n",
       "      <td>[My dog loves this place]</td>\n",
       "      <td>[5]</td>\n",
       "    </tr>\n",
       "    <tr>\n",
       "      <th>4</th>\n",
       "      <td>St Kilda Harbour Dog Beach</td>\n",
       "      <td>-37.860646</td>\n",
       "      <td>144.969802</td>\n",
       "      <td>[Small area of beach just north of the main pa...</td>\n",
       "      <td>[5, 5, 5, 5, 5]</td>\n",
       "    </tr>\n",
       "  </tbody>\n",
       "</table>\n",
       "</div>"
      ],
      "text/plain": [
       "                                name  geometry.location.lat  \\\n",
       "0                          Dog Beach             -37.843830   \n",
       "1           Port Melbourne Dog Beach             -37.839641   \n",
       "2            St Kilda West Dog Beach             -37.858539   \n",
       "3  St Kilda West dog off leash beach             -37.859313   \n",
       "4         St Kilda Harbour Dog Beach             -37.860646   \n",
       "\n",
       "   geometry.location.lng                                        review_text  \\\n",
       "0             144.938476                                                 []   \n",
       "1             144.920754                                                 []   \n",
       "2             144.966718                                                 []   \n",
       "3             144.969437                          [My dog loves this place]   \n",
       "4             144.969802  [Small area of beach just north of the main pa...   \n",
       "\n",
       "     review_rating  \n",
       "0               []  \n",
       "1               []  \n",
       "2               []  \n",
       "3              [5]  \n",
       "4  [5, 5, 5, 5, 5]  "
      ]
     },
     "execution_count": 6,
     "metadata": {},
     "output_type": "execute_result"
    }
   ],
   "source": [
    "location_data.head()"
   ]
  },
  {
   "cell_type": "code",
   "execution_count": 7,
   "id": "ebad702b",
   "metadata": {},
   "outputs": [],
   "source": [
    "location_data.to_csv('feed_data.csv', index=False)"
   ]
  },
  {
   "cell_type": "code",
   "execution_count": 8,
   "id": "34c69d60",
   "metadata": {},
   "outputs": [
    {
     "name": "stdout",
     "output_type": "stream",
     "text": [
      "Requirement already satisfied: openai in c:\\users\\space\\anaconda3\\lib\\site-packages (1.52.2)\n",
      "Requirement already satisfied: anyio<5,>=3.5.0 in c:\\users\\space\\anaconda3\\lib\\site-packages (from openai) (3.5.0)\n",
      "Requirement already satisfied: distro<2,>=1.7.0 in c:\\users\\space\\anaconda3\\lib\\site-packages (from openai) (1.9.0)\n",
      "Requirement already satisfied: httpx<1,>=0.23.0 in c:\\users\\space\\anaconda3\\lib\\site-packages (from openai) (0.27.2)\n",
      "Requirement already satisfied: jiter<1,>=0.4.0 in c:\\users\\space\\anaconda3\\lib\\site-packages (from openai) (0.5.0)\n",
      "Requirement already satisfied: pydantic<3,>=1.9.0 in c:\\users\\space\\anaconda3\\lib\\site-packages (from openai) (2.9.2)\n",
      "Requirement already satisfied: sniffio in c:\\users\\space\\anaconda3\\lib\\site-packages (from openai) (1.2.0)\n",
      "Requirement already satisfied: tqdm>4 in c:\\users\\space\\anaconda3\\lib\\site-packages (from openai) (4.65.0)\n",
      "Requirement already satisfied: typing-extensions<5,>=4.11 in c:\\users\\space\\anaconda3\\lib\\site-packages (from openai) (4.12.2)\n",
      "Requirement already satisfied: idna>=2.8 in c:\\users\\space\\anaconda3\\lib\\site-packages (from anyio<5,>=3.5.0->openai) (3.4)\n",
      "Requirement already satisfied: certifi in c:\\users\\space\\anaconda3\\lib\\site-packages (from httpx<1,>=0.23.0->openai) (2023.5.7)\n",
      "Requirement already satisfied: httpcore==1.* in c:\\users\\space\\anaconda3\\lib\\site-packages (from httpx<1,>=0.23.0->openai) (1.0.5)\n",
      "Requirement already satisfied: h11<0.15,>=0.13 in c:\\users\\space\\anaconda3\\lib\\site-packages (from httpcore==1.*->httpx<1,>=0.23.0->openai) (0.14.0)\n",
      "Requirement already satisfied: annotated-types>=0.6.0 in c:\\users\\space\\anaconda3\\lib\\site-packages (from pydantic<3,>=1.9.0->openai) (0.7.0)\n",
      "Requirement already satisfied: pydantic-core==2.23.4 in c:\\users\\space\\anaconda3\\lib\\site-packages (from pydantic<3,>=1.9.0->openai) (2.23.4)\n",
      "Requirement already satisfied: colorama in c:\\users\\space\\anaconda3\\lib\\site-packages (from tqdm>4->openai) (0.4.6)\n",
      "Note: you may need to restart the kernel to use updated packages.\n"
     ]
    }
   ],
   "source": [
    "pip install openai"
   ]
  },
  {
   "cell_type": "code",
   "execution_count": 9,
   "id": "810b6250",
   "metadata": {},
   "outputs": [
    {
     "name": "stdout",
     "output_type": "stream",
     "text": [
      "Requirement already satisfied: python-dotenv in c:\\users\\space\\anaconda3\\lib\\site-packages (1.0.1)\n",
      "Note: you may need to restart the kernel to use updated packages.\n"
     ]
    }
   ],
   "source": [
    "pip install python-dotenv"
   ]
  },
  {
   "cell_type": "code",
   "execution_count": 11,
   "id": "121e3faa",
   "metadata": {},
   "outputs": [],
   "source": [
    "import openai\n",
    "import pandas as pd\n",
    "from openai import OpenAI"
   ]
  },
  {
   "cell_type": "code",
   "execution_count": 18,
   "id": "fc479a9d",
   "metadata": {},
   "outputs": [
    {
     "name": "stdout",
     "output_type": "stream",
     "text": [
      "Name: openai\n",
      "Version: 1.52.2\n",
      "Summary: The official Python library for the openai API\n",
      "Home-page: \n",
      "Author: \n",
      "Author-email: OpenAI <support@openai.com>\n",
      "License: \n",
      "Location: C:\\Users\\space\\anaconda3\\Lib\\site-packages\n",
      "Requires: anyio, distro, httpx, jiter, pydantic, sniffio, tqdm, typing-extensions\n",
      "Required-by: \n",
      "Note: you may need to restart the kernel to use updated packages.\n"
     ]
    }
   ],
   "source": [
    "pip show openai"
   ]
  },
  {
   "cell_type": "code",
   "execution_count": 17,
   "id": "c5088c8e",
   "metadata": {},
   "outputs": [
    {
     "name": "stdout",
     "output_type": "stream",
     "text": [
      "Requirement already satisfied: openai in c:\\users\\space\\anaconda3\\lib\\site-packages (0.28.0)\n",
      "Collecting openai\n",
      "  Downloading openai-1.52.2-py3-none-any.whl (386 kB)\n",
      "                                              0.0/386.9 kB ? eta -:--:--\n",
      "     -------------------------------------- 386.9/386.9 kB 8.2 MB/s eta 0:00:00\n",
      "Requirement already satisfied: anyio<5,>=3.5.0 in c:\\users\\space\\anaconda3\\lib\\site-packages (from openai) (3.5.0)\n",
      "Requirement already satisfied: distro<2,>=1.7.0 in c:\\users\\space\\anaconda3\\lib\\site-packages (from openai) (1.9.0)\n",
      "Requirement already satisfied: httpx<1,>=0.23.0 in c:\\users\\space\\anaconda3\\lib\\site-packages (from openai) (0.27.2)\n",
      "Requirement already satisfied: jiter<1,>=0.4.0 in c:\\users\\space\\anaconda3\\lib\\site-packages (from openai) (0.5.0)\n",
      "Requirement already satisfied: pydantic<3,>=1.9.0 in c:\\users\\space\\anaconda3\\lib\\site-packages (from openai) (2.9.2)\n",
      "Requirement already satisfied: sniffio in c:\\users\\space\\anaconda3\\lib\\site-packages (from openai) (1.2.0)\n",
      "Requirement already satisfied: tqdm>4 in c:\\users\\space\\anaconda3\\lib\\site-packages (from openai) (4.65.0)\n",
      "Requirement already satisfied: typing-extensions<5,>=4.11 in c:\\users\\space\\anaconda3\\lib\\site-packages (from openai) (4.12.2)\n",
      "Requirement already satisfied: idna>=2.8 in c:\\users\\space\\anaconda3\\lib\\site-packages (from anyio<5,>=3.5.0->openai) (3.4)\n",
      "Requirement already satisfied: certifi in c:\\users\\space\\anaconda3\\lib\\site-packages (from httpx<1,>=0.23.0->openai) (2023.5.7)\n",
      "Requirement already satisfied: httpcore==1.* in c:\\users\\space\\anaconda3\\lib\\site-packages (from httpx<1,>=0.23.0->openai) (1.0.5)\n",
      "Requirement already satisfied: h11<0.15,>=0.13 in c:\\users\\space\\anaconda3\\lib\\site-packages (from httpcore==1.*->httpx<1,>=0.23.0->openai) (0.14.0)\n",
      "Requirement already satisfied: annotated-types>=0.6.0 in c:\\users\\space\\anaconda3\\lib\\site-packages (from pydantic<3,>=1.9.0->openai) (0.7.0)\n",
      "Requirement already satisfied: pydantic-core==2.23.4 in c:\\users\\space\\anaconda3\\lib\\site-packages (from pydantic<3,>=1.9.0->openai) (2.23.4)\n",
      "Requirement already satisfied: colorama in c:\\users\\space\\anaconda3\\lib\\site-packages (from tqdm>4->openai) (0.4.6)\n",
      "Installing collected packages: openai\n",
      "  Attempting uninstall: openai\n",
      "    Found existing installation: openai 0.28.0\n",
      "    Uninstalling openai-0.28.0:\n",
      "      Successfully uninstalled openai-0.28.0\n",
      "Successfully installed openai-1.52.2\n",
      "Note: you may need to restart the kernel to use updated packages.\n"
     ]
    }
   ],
   "source": [
    "pip install --upgrade openai"
   ]
  },
  {
   "cell_type": "code",
   "execution_count": 12,
   "id": "9d583754",
   "metadata": {},
   "outputs": [
    {
     "name": "stdout",
     "output_type": "stream",
     "text": [
      "The sky dons its azure hue,  \n",
      "In a dance of light, both old and new.  \n",
      "As sunlight streams through air so clear,  \n",
      "Its colors scatter far and near.  \n",
      "\n",
      "Short waves of blue, they twist and bend,  \n",
      "And in this scattering, they blend.  \n",
      "While reds and yellows, longer in flight,  \n",
      "Pass through with less of the day’s light.  \n",
      "\n",
      "So when you gaze at the heavens wide,  \n",
      "It's the blue that reigns, our faithful guide.  \n",
      "A canvas painted by nature’s hand,  \n",
      "A gentle reminder of beauty so grand.\n"
     ]
    }
   ],
   "source": [
    "\n",
    "client = OpenAI(api_key='replace_with_your_api_key')\n",
    "\n",
    "completion = client.chat.completions.create(\n",
    "    model = \"gpt-4o-mini\",\n",
    "    messages=[\n",
    "        {\"role\": \"system\", 'content': 'you are a poetic assistant'},\n",
    "        {'role': 'user','content': 'Why is the sky blue?'}\n",
    "    ]\n",
    ")\n",
    "print(completion.choices[0].message.content)"
   ]
  },
  {
   "cell_type": "code",
   "execution_count": 13,
   "id": "84907db0",
   "metadata": {},
   "outputs": [],
   "source": [
    "file_path = 'feed_data.csv'\n",
    "feed = pd.read_csv(file_path)"
   ]
  },
  {
   "cell_type": "code",
   "execution_count": 17,
   "id": "29fb81dd",
   "metadata": {},
   "outputs": [
    {
     "data": {
      "text/plain": [
       "name                     St Kilda West dog off leash beach\n",
       "geometry.location.lat                           -37.859313\n",
       "geometry.location.lng                           144.969437\n",
       "review_text                    ['My dog loves this place']\n",
       "review_rating                                          [5]\n",
       "Name: 3, dtype: object"
      ]
     },
     "execution_count": 17,
     "metadata": {},
     "output_type": "execute_result"
    }
   ],
   "source": [
    "feed.iloc[3]"
   ]
  },
  {
   "cell_type": "code",
   "execution_count": 23,
   "id": "fb285f7a",
   "metadata": {},
   "outputs": [
    {
     "data": {
      "text/plain": [
       "\"**St Kilda West Dog Off-Leash Beach**\\n\\nNestled along the picturesque coast of St Kilda, St Kilda West Dog Off-Leash Beach is a canine paradise that promises an unforgettable day out for both dogs and their owners. Stretching along the sparkling blue waters of Port Phillip Bay, this sandy stretch is a vibrant hub for tails to wag and pups to frolic freely in the surf.\\n\\nAs you arrive at St Kilda West, you'll be greeted by the sound of waves lapping against the shore and the joy-filled barks of dogs excited to play. The beach is spacious, allowing plenty of room for your furry friend to run, chase seagulls, or splash around in the shallows. The soft, golden sands are perfect for digging, and the off-leash area encourages social interactions among dogs—making it a fantastic spot for your pet to meet new friends.\\n\\nThe beach is well-maintained and features stunning views of the Melbourne skyline, adding a beautiful backdrop to your day of fun. There are picnic tables and benches nearby, allowing you to relax and enjoy the scenery while keeping an eye on your dog as they play. Freshwater taps are available for both dogs and humans, ensuring everyone stays hydrated during their beach adventure.\\n\\nDog waste bags are readily provided, promoting responsible pet ownership, so you can focus on enjoying your time without worrying about cleanup. With so many happy pups frolicking about, your dog will undoubtedly love this place, as echoed in the enthusiastic reviews\""
      ]
     },
     "execution_count": 23,
     "metadata": {},
     "output_type": "execute_result"
    }
   ],
   "source": [
    "import openai\n",
    "from openai import OpenAI\n",
    "import pandas as pd\n",
    "\n",
    "\n",
    "client = OpenAI(api_key='replace_with_your_api_key')\n",
    "# Load the CSV file\n",
    "file_path = 'feed_data.csv'\n",
    "feed = pd.read_csv(file_path)\n",
    "feed_3 = feed.iloc[3]\n",
    "# Function to generate a description for each row\n",
    "def generate_description(row):\n",
    "    name = row['name']\n",
    "    lat = row['geometry.location.lat']\n",
    "    lng = row['geometry.location.lng']\n",
    "    review = row['review_text']\n",
    "    rating = row['review_rating']\n",
    "    \n",
    "    prompt = f\"Generate a detailed description for '{name}', located at latitude {lat} and longitude {lng}. The following reviews are provided: {review}. The following ratings are provided: {rating}. Provide a dog-friendly description.\"\n",
    "\n",
    "    # Call OpenAI API to generate description using the new method\n",
    "    completion = client.chat.completions.create(\n",
    "        model=\"gpt-4o-mini\",\n",
    "        messages=[\n",
    "            {\"role\": \"system\", \"content\": \"You are a helpful assistant that creates location descriptions.\"},\n",
    "            {\"role\": \"user\", \"content\": prompt}\n",
    "        ],\n",
    "        max_tokens=300\n",
    "    )\n",
    "    \n",
    "    # Extract and return the response content\n",
    "    return(completion.choices[0].message.content)\n",
    "\n",
    "# Apply the function to each row and create a new column 'description'\n",
    "generate_description(feed_3)\n",
    "\n",
    "# # Save the DataFrame with descriptions to a new CSV file\n",
    "# feed.to_csv('locations_with_descriptions.csv', index=False)\n"
   ]
  },
  {
   "cell_type": "code",
   "execution_count": 17,
   "id": "5d913c90",
   "metadata": {},
   "outputs": [
    {
     "data": {
      "text/plain": [
       "'[\"natural_feature\", \"establishment\"]'"
      ]
     },
     "execution_count": 17,
     "metadata": {},
     "output_type": "execute_result"
    }
   ],
   "source": [
    "data['type'][0]"
   ]
  },
  {
   "cell_type": "code",
   "execution_count": null,
   "id": "7a8fb30c",
   "metadata": {},
   "outputs": [],
   "source": []
  }
 ],
 "metadata": {
  "kernelspec": {
   "display_name": "Python 3 (ipykernel)",
   "language": "python",
   "name": "python3"
  },
  "language_info": {
   "codemirror_mode": {
    "name": "ipython",
    "version": 3
   },
   "file_extension": ".py",
   "mimetype": "text/x-python",
   "name": "python",
   "nbconvert_exporter": "python",
   "pygments_lexer": "ipython3",
   "version": "3.11.3"
  }
 },
 "nbformat": 4,
 "nbformat_minor": 5
}
